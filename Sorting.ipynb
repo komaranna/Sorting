{
 "cells": [
  {
   "cell_type": "code",
   "execution_count": 5,
   "metadata": {
    "collapsed": true
   },
   "outputs": [],
   "source": [
    "import math\n",
    "import numpy as np"
   ]
  },
  {
   "cell_type": "code",
   "execution_count": 84,
   "metadata": {
    "collapsed": false
   },
   "outputs": [],
   "source": [
    "def InsertionSort(unsrtList):\n",
    "    length = len(unsrtList)\n",
    "    srtList = unsrtList\n",
    "    \n",
    "    for i in range(0,length):\n",
    "        el = unsrtList[i]\n",
    "        newIndex = FindNewIndex(el,srtList)\n",
    "        srtList = ShiftIndicesRight(el,i,newIndex,srtList)\n",
    "        #print srtList\n",
    "    \n",
    "    return srtList\n",
    "\n",
    "\n",
    "def FindNewIndex(el,srtList):\n",
    "    i = 0\n",
    "    srtel = srtList[i]\n",
    "    while el > srtel:\n",
    "        i = i+1\n",
    "        srtel = srtList[i]\n",
    "    \n",
    "    return i\n",
    "\n",
    "\n",
    "def ShiftIndicesRight(el,oldIndex,newIndex,srtList):\n",
    "    if oldIndex != newIndex:\n",
    "        for i in range(oldIndex,newIndex,-1):\n",
    "            srtList[i] = srtList[i-1]\n",
    "        \n",
    "        srtList[newIndex] = el\n",
    "        \n",
    "    return srtList\n",
    "        "
   ]
  },
  {
   "cell_type": "code",
   "execution_count": 128,
   "metadata": {
    "collapsed": false
   },
   "outputs": [
    {
     "data": {
      "text/plain": [
       "[1, 2, 3, 4, 5]"
      ]
     },
     "execution_count": 128,
     "metadata": {},
     "output_type": "execute_result"
    }
   ],
   "source": [
    "InsertionSort([5,4,3,2,1])"
   ]
  },
  {
   "cell_type": "code",
   "execution_count": 120,
   "metadata": {
    "collapsed": true
   },
   "outputs": [],
   "source": [
    "def MergeSort(unsrtList):\n",
    "    \n",
    "    length = len(unsrtList)\n",
    "    if length == 1:\n",
    "         return unsrtList\n",
    "    else:\n",
    "        list1 = unsrtList[0:int(math.floor(length/2))]\n",
    "        list2 = unsrtList[int(math.floor(length/2)):length]\n",
    "\n",
    "        srtlist1 = MergeSort(list1)\n",
    "        srtlist2 = MergeSort(list2)\n",
    "\n",
    "        srtList = Merge(srtlist1,srtlist2)\n",
    "\n",
    "        return srtList\n",
    "\n",
    "\n",
    "def Merge(list1,list2):\n",
    "    length1 = len(list1)\n",
    "    length2 = len(list2)\n",
    "    \n",
    "    mergedList = list1 + list2\n",
    "    \n",
    "    i=0\n",
    "    j=0\n",
    "    k=0\n",
    "    while k < length1+length2:\n",
    "        if (i < length1) & (j < length2):\n",
    "            if list1[i] < list2[j]:\n",
    "                mergedList[k] = list1[i]\n",
    "                i = i+1\n",
    "            else:\n",
    "                mergedList[k] = list2[j]\n",
    "                j = j+1\n",
    "        elif (i < length1):\n",
    "            mergedList[k] = list1[i]\n",
    "            i = i+1\n",
    "        else:\n",
    "            mergedList[k] = list2[j]\n",
    "            j = j+1\n",
    "            \n",
    "        k=k+1\n",
    "    \n",
    "    return mergedList"
   ]
  },
  {
   "cell_type": "code",
   "execution_count": 127,
   "metadata": {
    "collapsed": false
   },
   "outputs": [
    {
     "data": {
      "text/plain": [
       "[1, 2, 3, 4, 5]"
      ]
     },
     "execution_count": 127,
     "metadata": {},
     "output_type": "execute_result"
    }
   ],
   "source": [
    "MergeSort([5,4,3,2,1])"
   ]
  },
  {
   "cell_type": "code",
   "execution_count": 60,
   "metadata": {
    "collapsed": false
   },
   "outputs": [],
   "source": [
    "def QuickSort(unsrtList):\n",
    "    length = len(unsrtList)\n",
    "    \n",
    "    if length <= 1:\n",
    "        return unsrtList\n",
    "    else:\n",
    "        pivot = unsrtList[0]\n",
    "        for i in range(1,length):\n",
    "            if unsrtList[i] > pivot:\n",
    "                for j in range(i+1,length):\n",
    "                    if unsrtList[j] < pivot:\n",
    "                        temp = unsrtList[i]\n",
    "                        unsrtList[i] = unsrtList[j]\n",
    "                        unsrtList[j] = temp\n",
    "        \n",
    "        newPivotIndex = GetPivotIndex(unsrtList,pivot)           \n",
    "\n",
    "        unsrtList = ShiftLeft(unsrtList,newPivotIndex)\n",
    "        \n",
    "        list1 = unsrtList[0:newPivotIndex]\n",
    "        list2 = unsrtList[newPivotIndex+1:length]\n",
    "        srtList1 = QuickSort(list1)\n",
    "        srtList2 = QuickSort(list2)\n",
    "        \n",
    "        srtList = srtList1 + [pivot] + srtList2\n",
    "        \n",
    "        return srtList\n",
    "    \n",
    "    \n",
    "def GetPivotIndex(unsrtList,pivot):\n",
    "    length = len(unsrtList)\n",
    "    \n",
    "    newPivotIndex = length-1\n",
    "    for i in range(0,length-1):\n",
    "        if (unsrtList[i] <= pivot) & (unsrtList[i+1] > pivot):\n",
    "            newPivotIndex = i\n",
    "            break\n",
    "            \n",
    "    return newPivotIndex\n",
    "    \n",
    "    \n",
    "def ShiftLeft(unsrtList,newPivotIndex):\n",
    "    pivot = unsrtList[0]\n",
    "    for i in range(1,newPivotIndex+1):\n",
    "        unsrtList[i-1] = unsrtList[i]\n",
    "    \n",
    "    unsrtList[newPivotIndex] = pivot\n",
    "    \n",
    "    return unsrtList\n",
    "    \n",
    "    "
   ]
  },
  {
   "cell_type": "code",
   "execution_count": 62,
   "metadata": {
    "collapsed": false
   },
   "outputs": [
    {
     "data": {
      "text/plain": [
       "[1, 2, 3, 4, 5]"
      ]
     },
     "execution_count": 62,
     "metadata": {},
     "output_type": "execute_result"
    }
   ],
   "source": [
    "QuickSort([5,4,3,2,1])"
   ]
  },
  {
   "cell_type": "code",
   "execution_count": 71,
   "metadata": {
    "collapsed": true
   },
   "outputs": [],
   "source": [
    "import random\n",
    "random.seed()"
   ]
  },
  {
   "cell_type": "code",
   "execution_count": 72,
   "metadata": {
    "collapsed": true
   },
   "outputs": [],
   "source": [
    "def RandQuickSort(unsrtList):\n",
    "    length = len(unsrtList)\n",
    "    \n",
    "    if length <= 1:\n",
    "        return unsrtList\n",
    "    else:\n",
    "        rndPivotIndex = random.randint(0,length-1)\n",
    "        pivot = unsrtList[rndPivotIndex]\n",
    "        unsrtList = ShiftRight(unsrtList,rndPivotIndex)\n",
    "        for i in range(1,length):\n",
    "            if unsrtList[i] > pivot:\n",
    "                for j in range(i+1,length):\n",
    "                    if unsrtList[j] < pivot:\n",
    "                        temp = unsrtList[i]\n",
    "                        unsrtList[i] = unsrtList[j]\n",
    "                        unsrtList[j] = temp\n",
    "        \n",
    "        newPivotIndex = GetPivotIndex(unsrtList,pivot)           \n",
    "\n",
    "        unsrtList = ShiftLeft(unsrtList,newPivotIndex)\n",
    "        \n",
    "        list1 = unsrtList[0:newPivotIndex]\n",
    "        list2 = unsrtList[newPivotIndex+1:length]\n",
    "        srtList1 = QuickSort(list1)\n",
    "        srtList2 = QuickSort(list2)\n",
    "        \n",
    "        srtList = srtList1 + [pivot] + srtList2\n",
    "        \n",
    "        return srtList\n",
    "    \n",
    "    \n",
    "def GetPivotIndex(unsrtList,pivot):\n",
    "    length = len(unsrtList)\n",
    "    \n",
    "    newPivotIndex = length-1\n",
    "    for i in range(0,length-1):\n",
    "        if (unsrtList[i] <= pivot) & (unsrtList[i+1] > pivot):\n",
    "            newPivotIndex = i\n",
    "            break\n",
    "            \n",
    "    return newPivotIndex\n",
    "    \n",
    "    \n",
    "def ShiftLeft(unsrtList,newPivotIndex):\n",
    "    pivot = unsrtList[0]\n",
    "    for i in range(1,newPivotIndex+1):\n",
    "        unsrtList[i-1] = unsrtList[i]\n",
    "    \n",
    "    unsrtList[newPivotIndex] = pivot\n",
    "    \n",
    "    return unsrtList\n",
    "\n",
    "\n",
    "def ShiftRight(unsrtList,oldPivotIndex):\n",
    "    pivot = unsrtList[oldPivotIndex]\n",
    "    for i in range(oldPivotIndex,0,-1):\n",
    "        unsrtList[i] = unsrtList[i-1]\n",
    "    \n",
    "    unsrtList[0] = pivot\n",
    "    \n",
    "    return unsrtList\n",
    "    \n",
    "    "
   ]
  },
  {
   "cell_type": "code",
   "execution_count": 75,
   "metadata": {
    "collapsed": false
   },
   "outputs": [
    {
     "data": {
      "text/plain": [
       "[1, 2, 3, 4, 5]"
      ]
     },
     "execution_count": 75,
     "metadata": {},
     "output_type": "execute_result"
    }
   ],
   "source": [
    "RandQuickSort([5,4,3,2,1])"
   ]
  },
  {
   "cell_type": "code",
   "execution_count": 185,
   "metadata": {
    "collapsed": false
   },
   "outputs": [],
   "source": [
    "def CountingSort(j,unsrtList,maxValue):\n",
    "    histogram = CreateHistogram(j,unsrtList,maxValue)\n",
    "    srtList = SortByHistogram(j,unsrtList,histogram)\n",
    "    \n",
    "    return srtList\n",
    "\n",
    "\n",
    "def CreateHistogram(j,unsrtList,maxValue):\n",
    "    histogram = np.zeros(maxValue+1)\n",
    "    for el in unsrtList:\n",
    "        try:\n",
    "            index = int(el[j])\n",
    "        except:\n",
    "            index = el\n",
    "        histogram[index] = histogram[index] + 1\n",
    "    \n",
    "    for i in range(1,maxValue+1):\n",
    "        histogram[i] = histogram[i] + histogram[i-1]\n",
    "    \n",
    "    return histogram\n",
    "\n",
    "\n",
    "def SortByHistogram(j,unsrtList,histogram):\n",
    "    length = len(unsrtList)\n",
    "    srtList = unsrtList[:]\n",
    "    for i in range(length,0,-1):\n",
    "        el = unsrtList[i-1]\n",
    "        try:\n",
    "            index = int(el[j])\n",
    "        except:\n",
    "            index = el\n",
    "        position = int(histogram[index]) - 1\n",
    "        srtList[position] = el\n",
    "        histogram[index] = histogram[index] - 1\n",
    "    \n",
    "    return srtList"
   ]
  },
  {
   "cell_type": "code",
   "execution_count": 196,
   "metadata": {
    "collapsed": false
   },
   "outputs": [
    {
     "data": {
      "text/plain": [
       "[0, 1, 2, 3, 4, 5]"
      ]
     },
     "execution_count": 196,
     "metadata": {},
     "output_type": "execute_result"
    }
   ],
   "source": [
    "CountingSort(1,[5,4,3,2,1,0],5)"
   ]
  },
  {
   "cell_type": "code",
   "execution_count": 256,
   "metadata": {
    "collapsed": true
   },
   "outputs": [],
   "source": [
    "def RadixSort(unsrtList,maxValue,base):\n",
    "    maxLength = GettingLength(maxValue,base)\n",
    "    unsrtListInBase = []\n",
    "    srtList = []\n",
    "    \n",
    "    for el in unsrtList:\n",
    "        unsrtListInBase.append(ConvertToBase(el,base,maxLength))\n",
    "    \n",
    "    for i in range(maxLength,0,-1):\n",
    "        unsrtListInBase = CountingSort(i-1,unsrtListInBase,maxValue)\n",
    "    \n",
    "    srtListInBase = unsrtListInBase\n",
    "    for el in srtListInBase:\n",
    "        srtList.append(ConvertToInteger(el,base))\n",
    "        \n",
    "    return srtList\n",
    "\n",
    "    \n",
    "def GettingLength(value,base):\n",
    "    counter = 0\n",
    "    while value > 1:\n",
    "        value = value/base\n",
    "        counter = counter + 1\n",
    "        \n",
    "    noDigits = counter + 1\n",
    "    return noDigits\n",
    "\n",
    "    \n",
    "def ConvertToBase(value,base,noDigits):    \n",
    "    valueInBase = np.zeros(noDigits)\n",
    "    for i in range(noDigits,0,-1):\n",
    "        while value >= pow(base,i-1):\n",
    "            value = value - pow(base,i-1)\n",
    "            valueInBase[noDigits-i] = valueInBase[noDigits-i] + 1\n",
    "            \n",
    "    return valueInBase\n",
    "\n",
    "\n",
    "def ConvertToInteger(value,base):\n",
    "    length = len(value)\n",
    "    valueBaseTen = 0\n",
    "    for i in range(1,length+1):\n",
    "        valueBaseTen = valueBaseTen + value[length-i]*pow(base,i-1)\n",
    "        \n",
    "    return int(valueBaseTen)"
   ]
  },
  {
   "cell_type": "code",
   "execution_count": 262,
   "metadata": {
    "collapsed": false
   },
   "outputs": [
    {
     "data": {
      "text/plain": [
       "[2, 3, 3, 32, 42, 123, 200]"
      ]
     },
     "execution_count": 262,
     "metadata": {},
     "output_type": "execute_result"
    }
   ],
   "source": [
    "RadixSort([2,123,200,42,3,3,32],200,10)"
   ]
  },
  {
   "cell_type": "code",
   "execution_count": null,
   "metadata": {
    "collapsed": true
   },
   "outputs": [],
   "source": []
  }
 ],
 "metadata": {
  "kernelspec": {
   "display_name": "Python 2",
   "language": "python",
   "name": "python2"
  },
  "language_info": {
   "codemirror_mode": {
    "name": "ipython",
    "version": 2
   },
   "file_extension": ".py",
   "mimetype": "text/x-python",
   "name": "python",
   "nbconvert_exporter": "python",
   "pygments_lexer": "ipython2",
   "version": "2.7.13"
  }
 },
 "nbformat": 4,
 "nbformat_minor": 2
}
