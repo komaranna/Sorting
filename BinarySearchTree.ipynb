{
 "cells": [
  {
   "cell_type": "code",
   "execution_count": 136,
   "metadata": {
    "collapsed": false
   },
   "outputs": [],
   "source": [
    "class Tree:\n",
    "    def __init__(self,center):\n",
    "        self.node = center\n",
    "        \n",
    "    def CreateRightNode(self,right):\n",
    "        self.right = Tree(right)\n",
    "        \n",
    "    def CreateLeftNode(self,left):\n",
    "        self.left = Tree(left)\n",
    "        \n",
    "    def IsRightDefined(self):\n",
    "        try:\n",
    "            self.right.node\n",
    "            return True\n",
    "        except:\n",
    "            return False\n",
    "        \n",
    "    def IsLeftDefined(self):\n",
    "        try:\n",
    "            self.left.node\n",
    "            return True\n",
    "        except:\n",
    "            return False\n",
    "        \n",
    "    def IsNodeDefined(self):\n",
    "        try:\n",
    "            self.node\n",
    "            return True\n",
    "        except:\n",
    "            return False\n",
    "        \n",
    "    def DeleteNode(self):\n",
    "        if (self.IsRightDefined() | self.IsLeftDefined()):\n",
    "            self.node = None\n",
    "        else:\n",
    "            del self.node"
   ]
  },
  {
   "cell_type": "code",
   "execution_count": 139,
   "metadata": {
    "collapsed": false
   },
   "outputs": [],
   "source": [
    "def Sort(unsrtList):\n",
    "    t = CreateBinaryTree(unsrtList)\n",
    "    for i in range(0,len(unsrtList)):\n",
    "        SearchBinaryTree(t)\n",
    "    \n",
    "    \n",
    "def CreateBinaryTree(unsrtList):\n",
    "    tree = Tree(unsrtList[0])\n",
    "    for i in range(1,len(unsrtList)):\n",
    "        InsertToTree(tree,unsrtList[i])\n",
    "    \n",
    "    return tree\n",
    "\n",
    "\n",
    "def InsertToTree(tree,el):\n",
    "    if el < tree.node:\n",
    "        if tree.IsRightDefined():\n",
    "            InsertToTree(tree.right,el)\n",
    "        else:\n",
    "            tree.CreateRightNode(el)\n",
    "    else:\n",
    "        if tree.IsLeftDefined():\n",
    "            InsertToTree(tree.left,el)\n",
    "        else:\n",
    "            tree.CreateLeftNode(el)    \n",
    "\n",
    "\n",
    "def SearchBinaryTree(tree):\n",
    "    if tree.IsRightDefined():\n",
    "        SearchBinaryTree(tree.right)\n",
    "    else:\n",
    "        if tree.IsNodeDefined():\n",
    "            if tree.node != None:\n",
    "                print tree.node        \n",
    "        if tree.IsLeftDefined():\n",
    "            SearchBinaryTree(tree.left)\n",
    "        if tree.IsNodeDefined():\n",
    "            tree.DeleteNode()"
   ]
  },
  {
   "cell_type": "code",
   "execution_count": 148,
   "metadata": {
    "collapsed": false
   },
   "outputs": [
    {
     "name": "stdout",
     "output_type": "stream",
     "text": [
      "1\n",
      "2\n",
      "3\n",
      "4\n",
      "5\n"
     ]
    }
   ],
   "source": [
    "Sort([5,4,3,2,1])"
   ]
  },
  {
   "cell_type": "code",
   "execution_count": null,
   "metadata": {
    "collapsed": true
   },
   "outputs": [],
   "source": []
  }
 ],
 "metadata": {
  "kernelspec": {
   "display_name": "Python 2",
   "language": "python",
   "name": "python2"
  },
  "language_info": {
   "codemirror_mode": {
    "name": "ipython",
    "version": 2
   },
   "file_extension": ".py",
   "mimetype": "text/x-python",
   "name": "python",
   "nbconvert_exporter": "python",
   "pygments_lexer": "ipython2",
   "version": "2.7.13"
  }
 },
 "nbformat": 4,
 "nbformat_minor": 2
}
